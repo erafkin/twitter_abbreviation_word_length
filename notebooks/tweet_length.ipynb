{
 "cells": [
  {
   "cell_type": "code",
   "execution_count": 4,
   "metadata": {},
   "outputs": [],
   "source": [
    "import os\n",
    "os.chdir(\"..\")"
   ]
  },
  {
   "cell_type": "code",
   "execution_count": 5,
   "metadata": {},
   "outputs": [
    {
     "name": "stderr",
     "output_type": "stream",
     "text": [
      "Some weights of the model checkpoint at vinai/bertweet-base were not used when initializing RobertaForMaskedLM: ['roberta.pooler.dense.bias', 'roberta.pooler.dense.weight']\n",
      "- This IS expected if you are initializing RobertaForMaskedLM from the checkpoint of a model trained on another task or with another architecture (e.g. initializing a BertForSequenceClassification model from a BertForPreTraining model).\n",
      "- This IS NOT expected if you are initializing RobertaForMaskedLM from the checkpoint of a model that you expect to be exactly identical (initializing a BertForSequenceClassification model from a BertForSequenceClassification model).\n",
      "  0%|          | 0/40 [00:00<?, ?it/s]"
     ]
    },
    {
     "name": "stdout",
     "output_type": "stream",
     "text": [
      "abbreviation:  idk\n"
     ]
    },
    {
     "name": "stderr",
     "output_type": "stream",
     "text": [
      "  2%|▎         | 1/40 [00:59<38:35, 59.38s/it]"
     ]
    },
    {
     "name": "stdout",
     "output_type": "stream",
     "text": [
      "abbreviation:  rn\n"
     ]
    },
    {
     "name": "stderr",
     "output_type": "stream",
     "text": [
      "  5%|▌         | 2/40 [01:52<35:23, 55.87s/it]"
     ]
    },
    {
     "name": "stdout",
     "output_type": "stream",
     "text": [
      "abbreviation:  omg\n"
     ]
    },
    {
     "name": "stderr",
     "output_type": "stream",
     "text": [
      "  8%|▊         | 3/40 [02:45<33:29, 54.32s/it]"
     ]
    },
    {
     "name": "stdout",
     "output_type": "stream",
     "text": [
      "abbreviation:  idc\n"
     ]
    },
    {
     "name": "stderr",
     "output_type": "stream",
     "text": [
      " 10%|█         | 4/40 [03:36<31:49, 53.03s/it]"
     ]
    },
    {
     "name": "stdout",
     "output_type": "stream",
     "text": [
      "abbreviation:  lol\n"
     ]
    },
    {
     "name": "stderr",
     "output_type": "stream",
     "text": [
      " 12%|█▎        | 5/40 [04:27<30:30, 52.30s/it]"
     ]
    },
    {
     "name": "stdout",
     "output_type": "stream",
     "text": [
      "abbreviation:  bro\n"
     ]
    },
    {
     "name": "stderr",
     "output_type": "stream",
     "text": [
      " 15%|█▌        | 6/40 [05:21<29:57, 52.87s/it]"
     ]
    },
    {
     "name": "stdout",
     "output_type": "stream",
     "text": [
      "abbreviation:  dm\n"
     ]
    },
    {
     "name": "stderr",
     "output_type": "stream",
     "text": [
      " 18%|█▊        | 7/40 [06:14<29:02, 52.82s/it]"
     ]
    },
    {
     "name": "stdout",
     "output_type": "stream",
     "text": [
      "abbreviation:  wtf\n"
     ]
    },
    {
     "name": "stderr",
     "output_type": "stream",
     "text": [
      " 20%|██        | 8/40 [07:06<28:10, 52.81s/it]"
     ]
    },
    {
     "name": "stdout",
     "output_type": "stream",
     "text": [
      "abbreviation:  lmao\n"
     ]
    },
    {
     "name": "stderr",
     "output_type": "stream",
     "text": [
      " 22%|██▎       | 9/40 [07:58<27:09, 52.57s/it]"
     ]
    },
    {
     "name": "stdout",
     "output_type": "stream",
     "text": [
      "abbreviation:  sry\n"
     ]
    },
    {
     "name": "stderr",
     "output_type": "stream",
     "text": [
      " 25%|██▌       | 10/40 [08:50<26:10, 52.36s/it]"
     ]
    },
    {
     "name": "stdout",
     "output_type": "stream",
     "text": [
      "abbreviation:  v\n"
     ]
    },
    {
     "name": "stderr",
     "output_type": "stream",
     "text": [
      " 28%|██▊       | 11/40 [09:42<25:16, 52.30s/it]"
     ]
    },
    {
     "name": "stdout",
     "output_type": "stream",
     "text": [
      "abbreviation:  w\n"
     ]
    },
    {
     "name": "stderr",
     "output_type": "stream",
     "text": [
      " 30%|███       | 12/40 [10:35<24:30, 52.51s/it]"
     ]
    },
    {
     "name": "stdout",
     "output_type": "stream",
     "text": [
      "abbreviation:  nvm\n"
     ]
    },
    {
     "name": "stderr",
     "output_type": "stream",
     "text": [
      " 32%|███▎      | 13/40 [11:26<23:21, 51.90s/it]"
     ]
    },
    {
     "name": "stdout",
     "output_type": "stream",
     "text": [
      "abbreviation:  rofl\n"
     ]
    },
    {
     "name": "stderr",
     "output_type": "stream",
     "text": [
      " 35%|███▌      | 14/40 [12:16<22:11, 51.23s/it]"
     ]
    },
    {
     "name": "stdout",
     "output_type": "stream",
     "text": [
      "abbreviation:  lmk\n"
     ]
    },
    {
     "name": "stderr",
     "output_type": "stream",
     "text": [
      " 38%|███▊      | 15/40 [13:06<21:13, 50.92s/it]"
     ]
    },
    {
     "name": "stdout",
     "output_type": "stream",
     "text": [
      "abbreviation:  ily\n"
     ]
    },
    {
     "name": "stderr",
     "output_type": "stream",
     "text": [
      " 40%|████      | 16/40 [13:56<20:15, 50.66s/it]"
     ]
    },
    {
     "name": "stdout",
     "output_type": "stream",
     "text": [
      "abbreviation:  yolo\n"
     ]
    },
    {
     "name": "stderr",
     "output_type": "stream",
     "text": [
      " 42%|████▎     | 17/40 [14:46<19:18, 50.39s/it]"
     ]
    },
    {
     "name": "stdout",
     "output_type": "stream",
     "text": [
      "abbreviation:  lmfao\n"
     ]
    },
    {
     "name": "stderr",
     "output_type": "stream",
     "text": [
      " 45%|████▌     | 18/40 [15:35<18:21, 50.08s/it]"
     ]
    },
    {
     "name": "stdout",
     "output_type": "stream",
     "text": [
      "abbreviation:  ikr\n"
     ]
    },
    {
     "name": "stderr",
     "output_type": "stream",
     "text": [
      " 48%|████▊     | 19/40 [16:26<17:35, 50.24s/it]"
     ]
    },
    {
     "name": "stdout",
     "output_type": "stream",
     "text": [
      "abbreviation:  ofc\n"
     ]
    },
    {
     "name": "stderr",
     "output_type": "stream",
     "text": [
      " 50%|█████     | 20/40 [17:15<16:42, 50.13s/it]"
     ]
    },
    {
     "name": "stdout",
     "output_type": "stream",
     "text": [
      "abbreviation:  u\n"
     ]
    },
    {
     "name": "stderr",
     "output_type": "stream",
     "text": [
      " 52%|█████▎    | 21/40 [18:06<15:57, 50.39s/it]"
     ]
    },
    {
     "name": "stdout",
     "output_type": "stream",
     "text": [
      "abbreviation:  r\n"
     ]
    },
    {
     "name": "stderr",
     "output_type": "stream",
     "text": [
      " 55%|█████▌    | 22/40 [18:57<15:06, 50.35s/it]"
     ]
    },
    {
     "name": "stdout",
     "output_type": "stream",
     "text": [
      "abbreviation:  abt\n"
     ]
    },
    {
     "name": "stderr",
     "output_type": "stream",
     "text": [
      " 57%|█████▊    | 23/40 [19:46<14:10, 50.01s/it]"
     ]
    },
    {
     "name": "stdout",
     "output_type": "stream",
     "text": [
      "abbreviation:  tbh\n"
     ]
    },
    {
     "name": "stderr",
     "output_type": "stream",
     "text": [
      " 60%|██████    | 24/40 [20:36<13:18, 49.90s/it]"
     ]
    },
    {
     "name": "stdout",
     "output_type": "stream",
     "text": [
      "abbreviation:  tbt\n"
     ]
    },
    {
     "name": "stderr",
     "output_type": "stream",
     "text": [
      " 62%|██████▎   | 25/40 [21:26<12:29, 49.98s/it]"
     ]
    },
    {
     "name": "stdout",
     "output_type": "stream",
     "text": [
      "abbreviation:  smh\n"
     ]
    },
    {
     "name": "stderr",
     "output_type": "stream",
     "text": [
      " 65%|██████▌   | 26/40 [22:15<11:37, 49.83s/it]"
     ]
    },
    {
     "name": "stdout",
     "output_type": "stream",
     "text": [
      "abbreviation:  rt\n"
     ]
    },
    {
     "name": "stderr",
     "output_type": "stream",
     "text": [
      " 68%|██████▊   | 27/40 [23:06<10:50, 50.00s/it]"
     ]
    },
    {
     "name": "stdout",
     "output_type": "stream",
     "text": [
      "abbreviation:  kk\n"
     ]
    },
    {
     "name": "stderr",
     "output_type": "stream",
     "text": [
      " 70%|███████   | 28/40 [23:56<10:00, 50.03s/it]"
     ]
    },
    {
     "name": "stdout",
     "output_type": "stream",
     "text": [
      "abbreviation:  imo\n"
     ]
    },
    {
     "name": "stderr",
     "output_type": "stream",
     "text": [
      " 72%|███████▎  | 29/40 [24:46<09:09, 49.96s/it]"
     ]
    },
    {
     "name": "stdout",
     "output_type": "stream",
     "text": [
      "abbreviation:  ic\n"
     ]
    },
    {
     "name": "stderr",
     "output_type": "stream",
     "text": [
      " 75%|███████▌  | 30/40 [25:36<08:20, 50.03s/it]"
     ]
    },
    {
     "name": "stdout",
     "output_type": "stream",
     "text": [
      "abbreviation:  ht\n"
     ]
    },
    {
     "name": "stderr",
     "output_type": "stream",
     "text": [
      " 78%|███████▊  | 31/40 [26:26<07:29, 50.00s/it]"
     ]
    },
    {
     "name": "stdout",
     "output_type": "stream",
     "text": [
      "abbreviation:  ftw\n"
     ]
    },
    {
     "name": "stderr",
     "output_type": "stream",
     "text": [
      " 80%|████████  | 32/40 [27:15<06:38, 49.77s/it]"
     ]
    },
    {
     "name": "stdout",
     "output_type": "stream",
     "text": [
      "abbreviation:  fab\n"
     ]
    },
    {
     "name": "stderr",
     "output_type": "stream",
     "text": [
      " 82%|████████▎ | 33/40 [28:05<05:48, 49.80s/it]"
     ]
    },
    {
     "name": "stdout",
     "output_type": "stream",
     "text": [
      "abbreviation:  ema\n"
     ]
    },
    {
     "name": "stderr",
     "output_type": "stream",
     "text": [
      " 85%|████████▌ | 34/40 [28:55<04:59, 49.87s/it]"
     ]
    },
    {
     "name": "stdout",
     "output_type": "stream",
     "text": [
      "abbreviation:  deets\n"
     ]
    },
    {
     "name": "stderr",
     "output_type": "stream",
     "text": [
      " 88%|████████▊ | 35/40 [29:44<04:08, 49.67s/it]"
     ]
    },
    {
     "name": "stdout",
     "output_type": "stream",
     "text": [
      "abbreviation:  cld\n"
     ]
    },
    {
     "name": "stderr",
     "output_type": "stream",
     "text": [
      " 90%|█████████ | 36/40 [30:33<03:18, 49.56s/it]"
     ]
    },
    {
     "name": "stdout",
     "output_type": "stream",
     "text": [
      "abbreviation:  btw\n"
     ]
    },
    {
     "name": "stderr",
     "output_type": "stream",
     "text": [
      " 92%|█████████▎| 37/40 [31:23<02:29, 49.68s/it]"
     ]
    },
    {
     "name": "stdout",
     "output_type": "stream",
     "text": [
      "abbreviation:  br\n"
     ]
    },
    {
     "name": "stderr",
     "output_type": "stream",
     "text": [
      " 95%|█████████▌| 38/40 [32:12<01:38, 49.46s/it]"
     ]
    },
    {
     "name": "stdout",
     "output_type": "stream",
     "text": [
      "abbreviation:  b4\n"
     ]
    },
    {
     "name": "stderr",
     "output_type": "stream",
     "text": [
      " 98%|█████████▊| 39/40 [33:01<00:49, 49.38s/it]"
     ]
    },
    {
     "name": "stdout",
     "output_type": "stream",
     "text": [
      "abbreviation:  bc\n"
     ]
    },
    {
     "name": "stderr",
     "output_type": "stream",
     "text": [
      "100%|██████████| 40/40 [33:50<00:00, 50.77s/it]\n"
     ]
    }
   ],
   "source": [
    "from scripts.utils.abbreviations import abbrevations\n",
    "from transformers import AutoModelForMaskedLM, AutoTokenizer\n",
    "from datasets import load_dataset\n",
    "from tqdm import tqdm\n",
    "from scripts.utils.TweetNormalizer import normalizeTweet\n",
    "\n",
    "configs = ['emoji', 'emotion', 'hate', 'irony', 'offensive', 'sentiment', 'stance_abortion', 'stance_atheism', 'stance_climate', 'stance_feminist', 'stance_hillary']\n",
    "bertweet = AutoModelForMaskedLM.from_pretrained(\"vinai/bertweet-base\")\n",
    "tokenizer = AutoTokenizer.from_pretrained(\"vinai/bertweet-base\")\n",
    "datasets = [load_dataset(\"cardiffnlp/tweet_eval\", config) for config in configs]\n",
    "tweet_dict = {}\n",
    "for full_length, abbr in tqdm(abbrevations.items()): \n",
    "    if  tokenizer.convert_ids_to_tokens(tokenizer.convert_tokens_to_ids(abbr)) == tokenizer.unk_token:\n",
    "        print(\"abbreviation unknown: \", abbr)\n",
    "        pass\n",
    "    print(\"abbreviation: \", abbr)\n",
    "    count_fl = 0\n",
    "    count_abbr = 0\n",
    "    tweets_with_abbr = []\n",
    "    tweets_with_fl = []\n",
    "    fl_normalized = normalizeTweet(full_length)\n",
    "    fl_tokenized = tokenizer.tokenize(fl_normalized)\n",
    "    abbr_normalized = normalizeTweet(abbr)\n",
    "    abbr_tokenized =  tokenizer.tokenize(abbr_normalized)\n",
    "    for dataset in datasets:\n",
    "        for split in dataset:\n",
    "            for i in range(len(dataset[split])):\n",
    "                normalized_line = normalizeTweet(tweet=dataset[split][i][\"text\"])\n",
    "                normalized_line = normalized_line.lower()\n",
    "                normalized_line = normalized_line.replace(\"'\", \"\")\n",
    "                tokens = tokenizer.tokenize(normalized_line)\n",
    "                tokens = [t.lower() for t in tokens]\n",
    "                tokens = [t.replace(\"'\", \"\") for t in tokens]\n",
    "                fl_tokenized = [t.lower() for t in fl_tokenized]\n",
    "                fl_tokenized = [t.replace(\"'\", \"\") for t in fl_tokenized]\n",
    "                abbr_tokenized = [t.lower() for t in abbr_tokenized]\n",
    "                abbr_tokenized = [t.replace(\"'\", \"\") for t in abbr_tokenized]\n",
    "                fl_in_tweet = [tokens[idx: idx + len(fl_tokenized)] == fl_tokenized for idx in range(len(tokens) - len(fl_tokenized) + 1)].count(True)\n",
    "                abbr_in_tweet = [tokens[idx: idx + len(abbr_tokenized)] == abbr_tokenized for idx in range(len(tokens) - len(abbr_tokenized) + 1)].count(True)\n",
    "\n",
    "                if fl_in_tweet > 0:\n",
    "                    count_fl += fl_in_tweet\n",
    "                    tweets_with_fl.append(dataset[split][i][\"text\"])\n",
    "                if abbr_in_tweet > 0:\n",
    "                    count_abbr+= abbr_in_tweet\n",
    "                    tweets_with_abbr.append(dataset[split][i][\"text\"])\n",
    "    tweet_dict[abbr] = tweets_with_abbr\n",
    "    tweet_dict[full_length] = tweets_with_fl"
   ]
  },
  {
   "cell_type": "code",
   "execution_count": 9,
   "metadata": {},
   "outputs": [],
   "source": [
    "import pandas as pd\n",
    "rows = []\n",
    "for fl, abbr in abbrevations.items():\n",
    "    for fl_tweet in tweet_dict[fl]:\n",
    "        rows.append({\"keyword\": fl, \"tweet\": fl_tweet, \"tweet_len\": len(fl_tweet)})\n",
    "    for abbr_tweet in tweet_dict[abbr]:\n",
    "        rows.append({\"keyword\": abbr, \"tweet\": abbr_tweet, \"tweet_len\": len(abbr_tweet)})\n",
    "df = pd.DataFrame(rows)\n",
    "df.to_csv(\"../tweets_containing_words_and_full_length.csv\", index=False)"
   ]
  },
  {
   "cell_type": "code",
   "execution_count": 4,
   "metadata": {},
   "outputs": [
    {
     "data": {
      "text/plain": [
       "(108.94756510568726, 103.09550712940543, 100498)"
      ]
     },
     "execution_count": 4,
     "metadata": {},
     "output_type": "execute_result"
    }
   ],
   "source": [
    "import pandas as pd\n",
    "import os\n",
    "os.chdir(\"..\")\n",
    "from scripts.utils.abbreviations import abbrevations\n",
    "\n",
    "df = pd.read_csv(\"./tweets_containing_words_and_full_length.csv\")\n",
    "long_form = set(abbrevations.keys())\n",
    "short_form = set(abbrevations.values())\n",
    "df_long = df[df[\"keyword\"].isin(long_form)]\n",
    "df_short = df[df[\"keyword\"].isin(short_form)]\n",
    "df_long[\"tweet_len\"].mean(), df_short[\"tweet_len\"].mean(), len(df)"
   ]
  },
  {
   "cell_type": "code",
   "execution_count": 5,
   "metadata": {},
   "outputs": [
    {
     "name": "stdout",
     "output_type": "stream",
     "text": [
      "99018\n"
     ]
    },
    {
     "data": {
      "text/plain": [
       "<Axes: >"
      ]
     },
     "execution_count": 5,
     "metadata": {},
     "output_type": "execute_result"
    },
    {
     "data": {
      "image/png": "[encoded data removed]",
      "text/plain": [
       "<Figure size 640x480 with 1 Axes>"
      ]
     },
     "metadata": {},
     "output_type": "display_data"
    }
   ],
   "source": [
    "df_normal_users = df[df[\"tweet_len\"] <= 280]\n",
    "print(len(df_normal_users))\n",
    "df_normal_users[\"tweet_len\"].hist()"
   ]
  },
  {
   "cell_type": "code",
   "execution_count": 68,
   "metadata": {},
   "outputs": [
    {
     "ename": "NameError",
     "evalue": "name 'long_phrases' is not defined",
     "output_type": "error",
     "traceback": [
      "\u001b[0;31m---------------------------------------------------------------------------\u001b[0m",
      "\u001b[0;31mNameError\u001b[0m                                 Traceback (most recent call last)",
      "Cell \u001b[0;32mIn[68], line 3\u001b[0m\n\u001b[1;32m      1\u001b[0m \u001b[38;5;28;01mimport\u001b[39;00m \u001b[38;5;21;01mmatplotlib\u001b[39;00m\u001b[38;5;21;01m.\u001b[39;00m\u001b[38;5;21;01mpyplot\u001b[39;00m \u001b[38;5;28;01mas\u001b[39;00m \u001b[38;5;21;01mplt\u001b[39;00m\n\u001b[1;32m      2\u001b[0m df_long \u001b[38;5;241m=\u001b[39m df_normal_users[df_normal_users[\u001b[38;5;124m\"\u001b[39m\u001b[38;5;124mkeyword\u001b[39m\u001b[38;5;124m\"\u001b[39m]\u001b[38;5;241m.\u001b[39misin(long_form)]\n\u001b[0;32m----> 3\u001b[0m df_long_phrases \u001b[38;5;241m=\u001b[39m df_normal_users[df_normal_users[\u001b[38;5;124m\"\u001b[39m\u001b[38;5;124mkeyword\u001b[39m\u001b[38;5;124m\"\u001b[39m]\u001b[38;5;241m.\u001b[39misin(\u001b[43mlong_phrases\u001b[49m)]\n\u001b[1;32m      4\u001b[0m df_short \u001b[38;5;241m=\u001b[39m df_normal_users[df_normal_users[\u001b[38;5;124m\"\u001b[39m\u001b[38;5;124mkeyword\u001b[39m\u001b[38;5;124m\"\u001b[39m]\u001b[38;5;241m.\u001b[39misin(short_form)]\n\u001b[1;32m      5\u001b[0m df_short_phrases \u001b[38;5;241m=\u001b[39m df_normal_users[df_normal_users[\u001b[38;5;124m\"\u001b[39m\u001b[38;5;124mkeyword\u001b[39m\u001b[38;5;124m\"\u001b[39m]\u001b[38;5;241m.\u001b[39misin(short_phrases)]\n",
      "\u001b[0;31mNameError\u001b[0m: name 'long_phrases' is not defined"
     ]
    }
   ],
   "source": [
    "import matplotlib.pyplot as plt\n",
    "df_long = df_normal_users[df_normal_users[\"keyword\"].isin(long_form)]\n",
    "df_short = df_normal_users[df_normal_users[\"keyword\"].isin(short_form)]\n",
    "print(len(df_short)/len(df_normal_users), len(df_long)/len(df_normal_users))\n",
    "df_long = df_long.drop_duplicates(subset=['tweet'])\n",
    "\n",
    "df_short = df_short.drop_duplicates(subset=['tweet'])\n",
    "df_short[\"tweet_len\"].hist()\n",
    "plt.title(\"short form in tweets\")\n",
    "plt.xlabel(\"tweet length\")\n",
    "plt.ylabel(\"count\")\n",
    "df_long.hist()\n",
    "plt.title(\"long form in tweets\")\n",
    "plt.xlabel(\"tweet length\")\n",
    "plt.ylabel(\"count\")\n"
   ]
  },
  {
   "cell_type": "code",
   "execution_count": 67,
   "metadata": {},
   "outputs": [
    {
     "name": "stdout",
     "output_type": "stream",
     "text": [
      "1113\n",
      "0.1078167115902965 0.8921832884097035\n",
      "565 109\n"
     ]
    },
    {
     "data": {
      "text/plain": [
       "Text(0, 0.5, 'count')"
      ]
     },
     "execution_count": 67,
     "metadata": {},
     "output_type": "execute_result"
    },
    {
     "data": {
      "image/png": "[encoded data removed]",
      "text/plain": [
       "<Figure size 640x480 with 1 Axes>"
      ]
     },
     "metadata": {},
     "output_type": "display_data"
    },
    {
     "data": {
      "image/png": "[encoded data removed]",
      "text/plain": [
       "<Figure size 640x480 with 1 Axes>"
      ]
     },
     "metadata": {},
     "output_type": "display_data"
    }
   ],
   "source": [
    "df_near_limit = df_normal_users[df_normal_users[\"tweet_len\"] >= 270]\n",
    "print(len(df_near_limit))\n",
    "df_long_limit = df_near_limit[df_near_limit[\"keyword\"].isin(long_form)]\n",
    "df_short_limit = df_near_limit[df_near_limit[\"keyword\"].isin(short_form)]\n",
    "print(len(df_short_limit)/len(df_near_limit), len(df_long_limit)/len(df_near_limit))\n",
    "df_long_limit = df_long_limit.drop_duplicates(subset=[\"tweet\"])\n",
    "\n",
    "df_short_limit = df_short_limit.drop_duplicates(subset=[\"tweet\"])\n",
    "print(len(df_long_limit), len(df_short_limit))\n",
    "\n",
    "df_short_limit.hist()\n",
    "plt.title(\"short form in tweets >= 270 chars \")\n",
    "\n",
    "plt.xlabel(\"tweet length\")\n",
    "plt.ylabel(\"count\")\n",
    "df_long_limit.hist()\n",
    "plt.title(\"long form in tweets >= 270 chars\")\n",
    "plt.xlabel(\"tweet length\")\n",
    "plt.ylabel(\"count\")"
   ]
  },
  {
   "cell_type": "code",
   "execution_count": 66,
   "metadata": {},
   "outputs": [
    {
     "name": "stdout",
     "output_type": "stream",
     "text": [
      "{'lmfao', 'lmk', 'ema', 'ht', 'idc', 'yolo', 'br', 'ofc', 'lmao', 'omg', 'imo', 'tbt', 'smh', 'ftw', 'rn', 'dm', 'idk', 'ic', 'ily', 'lol', 'ikr', 'btw', 'tbh', 'rofl', 'wtf'}\n",
      "      keyword                                              tweet  tweet_len\n",
      "1350      omg  #FamiliarWife JH-OMG, she is crazy WJ-Wait!......        280\n",
      "2548      lol  @user @user His \"Spartacus\" moment was more li...        273\n",
      "2631      lol  Well it seems that Trump tweet has cooled off,...        280\n",
      "2831      lol  @user @user @user Lol. It’s funny how you assu...        278\n",
      "4998       dm  -She comes with a cage and with at least two m...        278\n",
      "5001       dm  #Creampuffs #HollsteinForever  Just a quick re...        280\n",
      "5229      wtf  Im not gonna sit back and let you categorize A...        279\n",
      "5622     lmao  @user @user lmao @ the WORLD league viewership...        280\n",
      "5642     lmao  #MAGA people are very low IQ. GDP Growth\"\" mea...        276\n",
      "5649     lmao  @user @user @user Lmao. And yet it’s called Ga...        280\n",
      "5666     lmao  @user @user Lmao saying you are happy for some...        278\n",
      "90149     smh  So the children are still missing that the adm...        274\n",
      "92262      ic  Our Executive Director, John Barcanic, and Dir...        280\n",
      "92263      ic  Recent Examples: Being the only woman & being ...        274\n",
      "92272      ic  @user A super super generalised statement. Wha...        279\n",
      "92273      ic  #Florencehurricane 72 HOURS OF SUSTAINED LETHA...        273\n",
      "92337      ht  So viel Hass gegen UNS. #RemigrationJETZT #abs...        274\n",
      "95029     btw  Wrong! Egypt did not have a welfare state. Jes...        277\n",
      "0.016172506738544475 0.016172506738544475\n",
      "18 18\n"
     ]
    },
    {
     "data": {
      "text/plain": [
       "Text(0, 0.5, 'count')"
      ]
     },
     "execution_count": 66,
     "metadata": {},
     "output_type": "execute_result"
    },
    {
     "data": {
      "image/png": "[encoded data removed]",
      "text/plain": [
       "<Figure size 640x480 with 1 Axes>"
      ]
     },
     "metadata": {},
     "output_type": "display_data"
    },
    {
     "data": {
      "image/png": "[encoded data removed]",
      "text/plain": [
       "<Figure size 640x480 with 1 Axes>"
      ]
     },
     "metadata": {},
     "output_type": "display_data"
    }
   ],
   "source": [
    "df_near_limit = df_normal_users[df_normal_users[\"tweet_len\"] >=270]\n",
    "long_form_phrases = set([k for k in abbrevations.keys() if \" \" in k])\n",
    "short_form_phrases = set([abbrevations[k] for k in long_form_phrases])\n",
    "print(short_form_phrases)\n",
    "df_long_limit = df_near_limit[df_near_limit[\"keyword\"].isin(long_form_phrases)]\n",
    "df_short_limit = df_near_limit[df_near_limit[\"keyword\"].isin(short_form_phrases)]\n",
    "print(df_short_limit)\n",
    "\n",
    "print(len(df_short_limit)/len(df_near_limit), len(df_long_limit)/len(df_near_limit))\n",
    "df_long_limit = df_long_limit.drop_duplicates(subset=[\"tweet\"])\n",
    "\n",
    "df_short_limit = df_short_limit.drop_duplicates(subset=[\"tweet\"])\n",
    "print(len(df_long_limit), len(df_short_limit))\n",
    "\n",
    "df_short_limit.hist()\n",
    "plt.title(\"short form in tweets >= 270 chars \")\n",
    "\n",
    "plt.xlabel(\"tweet length\")\n",
    "plt.ylabel(\"count\")\n",
    "df_long_limit.hist()\n",
    "plt.title(\"long form in tweets >= 270 chars\")\n",
    "plt.xlabel(\"tweet length\")\n",
    "plt.ylabel(\"count\")"
   ]
  }
 ],
 "metadata": {
  "kernelspec": {
   "display_name": "venv",
   "language": "python",
   "name": "python3"
  },
  "language_info": {
   "codemirror_mode": {
    "name": "ipython",
    "version": 3
   },
   "file_extension": ".py",
   "mimetype": "text/x-python",
   "name": "python",
   "nbconvert_exporter": "python",
   "pygments_lexer": "ipython3",
   "version": "3.11.6"
  }
 },
 "nbformat": 4,
 "nbformat_minor": 2
}
