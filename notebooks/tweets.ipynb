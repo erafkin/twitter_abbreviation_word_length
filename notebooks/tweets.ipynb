{
 "cells": [
  {
   "cell_type": "code",
   "execution_count": 63,
   "metadata": {},
   "outputs": [
    {
     "name": "stdout",
     "output_type": "stream",
     "text": [
      "tensor([2.8946e-11, 1.3597e-24, 4.6842e-06,  ..., 1.9288e-22, 1.4110e-22,\n",
      "        3.7773e-09], grad_fn=<SoftmaxBackward0>)\n",
      "50265\n",
      "tensor(26143)  measles\n"
     ]
    },
    {
     "data": {
      "text/plain": [
       "(tensor(5.6032e-25, grad_fn=<SelectBackward0>),\n",
       " tensor(5.6032e-25, grad_fn=<SelectBackward0>),\n",
       " tensor(5.9819e-10, grad_fn=<SelectBackward0>))"
      ]
     },
     "execution_count": 63,
     "metadata": {},
     "output_type": "execute_result"
    }
   ],
   "source": [
    "import torch\n",
    "from transformers import AutoModelForMaskedLM, AutoTokenizer\n",
    "import numpy as np\n",
    "\n",
    "\n",
    "bertweet = AutoModelForMaskedLM.from_pretrained(\"vinai/bertweet-large\")\n",
    "\n",
    "# For transformers v4.x+:\n",
    "tokenizer = AutoTokenizer.from_pretrained(\"vinai/bertweet-large\", use_fast=False)\n",
    "\n",
    "# INPUT TWEET IS ALREADY NORMALIZED!\n",
    "line = f\"SC has first two presumptive cases of {tokenizer.mask_token}, DHEC confirms HTTPURL via @USER :cry:\"\n",
    "\n",
    "input_ids = torch.tensor([tokenizer.encode(line)])\n",
    "logits = bertweet(input_ids).logits\n",
    "# with torch.no_grad():\n",
    "#     output = bertweet(input_ids)\n",
    "mask_idx = (input_ids == tokenizer.mask_token_id).nonzero(as_tuple=True)[1].numpy()[0]\n",
    "probs =  torch.nn.functional.softmax(logits[0, mask_idx, :], dim=0)\n",
    "print(probs)\n",
    "\n",
    "# probs = logits[0, mask_idx].softmax(dim=0)\n",
    "print(len(probs))\n",
    "corona_id = tokenizer.convert_tokens_to_ids(\"coronavirus\")\n",
    "covid_id = tokenizer.convert_tokens_to_ids(\"covid\")\n",
    "dog_id = tokenizer.convert_tokens_to_ids(\"dog\")\n",
    "print(probs.argmax(), tokenizer.decode([probs.argmax()]))\n",
    "probs[covid_id], probs[corona_id],  probs[dog_id]\n"
   ]
  },
  {
   "cell_type": "code",
   "execution_count": null,
   "metadata": {},
   "outputs": [],
   "source": []
  }
 ],
 "metadata": {
  "kernelspec": {
   "display_name": "venv",
   "language": "python",
   "name": "python3"
  },
  "language_info": {
   "codemirror_mode": {
    "name": "ipython",
    "version": 3
   },
   "file_extension": ".py",
   "mimetype": "text/x-python",
   "name": "python",
   "nbconvert_exporter": "python",
   "pygments_lexer": "ipython3",
   "version": "3.11.7"
  }
 },
 "nbformat": 4,
 "nbformat_minor": 2
}
