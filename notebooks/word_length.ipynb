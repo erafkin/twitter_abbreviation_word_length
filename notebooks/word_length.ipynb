{
 "cells": [
  {
   "cell_type": "code",
   "execution_count": 2,
   "metadata": {},
   "outputs": [
    {
     "data": {
      "text/plain": [
       "(np.float64(4.780030416471689), np.float64(4.0))"
      ]
     },
     "execution_count": 2,
     "metadata": {},
     "output_type": "execute_result"
    }
   ],
   "source": [
    "from datasets import load_dataset\n",
    "import numpy as np\n",
    "word_lens = []\n",
    "\n",
    "twitter_ds = load_dataset(\"GateNLP/broad_twitter_corpus\")\n",
    "twitter_ds = twitter_ds[\"train\"]\n",
    "for tweet in twitter_ds:\n",
    "    for word in tweet[\"tokens\"]:\n",
    "        word_lens.append(len(word))\n",
    "np.average(word_lens), np.median(word_lens)\n"
   ]
  },
  {
   "cell_type": "code",
   "execution_count": 10,
   "metadata": {},
   "outputs": [
    {
     "name": "stdout",
     "output_type": "stream",
     "text": [
      "5342\n"
     ]
    },
    {
     "data": {
      "text/plain": [
       "(np.float64(5.269023390171017), np.float64(5.0))"
      ]
     },
     "execution_count": 10,
     "metadata": {},
     "output_type": "execute_result"
    }
   ],
   "source": [
    "from datasets import load_dataset\n",
    "import numpy as np\n",
    "word_lens = []\n",
    "\n",
    "wiki_ds = load_dataset(\"wikimedia/wikipedia\", \"20231101.en\")\n",
    "wiki_ds = wiki_ds[\"train\"].shuffle(seed=42).select(range(len(twitter_ds)))\n",
    "print(len(wiki_ds))\n",
    "for article in wiki_ds:\n",
    "    for word in article[\"text\"].split():\n",
    "        word_lens.append(len(word))\n",
    "np.average(word_lens), np.median(word_lens)\n"
   ]
  }
 ],
 "metadata": {
  "kernelspec": {
   "display_name": "venv",
   "language": "python",
   "name": "python3"
  },
  "language_info": {
   "codemirror_mode": {
    "name": "ipython",
    "version": 3
   },
   "file_extension": ".py",
   "mimetype": "text/x-python",
   "name": "python",
   "nbconvert_exporter": "python",
   "pygments_lexer": "ipython3",
   "version": "3.11.6"
  }
 },
 "nbformat": 4,
 "nbformat_minor": 2
}
